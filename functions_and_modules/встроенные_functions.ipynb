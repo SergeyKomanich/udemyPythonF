{
 "cells": [
  {
   "cell_type": "code",
   "execution_count": 1,
   "id": "cb2fe687",
   "metadata": {},
   "outputs": [],
   "source": [
    "numbers = [1, 2, 3]\n",
    "numbers.append(4)"
   ]
  },
  {
   "cell_type": "code",
   "execution_count": 4,
   "id": "2be58ec1",
   "metadata": {},
   "outputs": [
    {
     "name": "stdout",
     "output_type": "stream",
     "text": [
      "Help on built-in function append:\n",
      "\n",
      "append(object, /) method of builtins.list instance\n",
      "    Append object to the end of the list.\n",
      "\n"
     ]
    }
   ],
   "source": [
    "help(numbers.append)"
   ]
  },
  {
   "cell_type": "code",
   "execution_count": 5,
   "id": "8557cef5",
   "metadata": {},
   "outputs": [
    {
     "data": {
      "text/plain": [
       "1"
      ]
     },
     "execution_count": 5,
     "metadata": {},
     "output_type": "execute_result"
    }
   ],
   "source": [
    "abs(-1) # модуль числа"
   ]
  },
  {
   "cell_type": "code",
   "execution_count": 6,
   "id": "909805de",
   "metadata": {},
   "outputs": [
    {
     "data": {
      "text/plain": [
       "256"
      ]
     },
     "execution_count": 6,
     "metadata": {},
     "output_type": "execute_result"
    }
   ],
   "source": [
    "pow(2, 8) # в степень"
   ]
  },
  {
   "cell_type": "code",
   "execution_count": 7,
   "id": "c7112cf3",
   "metadata": {},
   "outputs": [
    {
     "data": {
      "text/plain": [
       "3.4"
      ]
     },
     "execution_count": 7,
     "metadata": {},
     "output_type": "execute_result"
    }
   ],
   "source": [
    "round(3.37, 1) # округление"
   ]
  },
  {
   "cell_type": "code",
   "execution_count": 8,
   "id": "dbd521e0",
   "metadata": {},
   "outputs": [
    {
     "data": {
      "text/plain": [
       "6"
      ]
     },
     "execution_count": 8,
     "metadata": {},
     "output_type": "execute_result"
    }
   ],
   "source": [
    "sum([1, 2, 3]) # передавать список"
   ]
  },
  {
   "cell_type": "code",
   "execution_count": 9,
   "id": "f5999b52",
   "metadata": {},
   "outputs": [
    {
     "name": "stdout",
     "output_type": "stream",
     "text": [
      "0x2a\n",
      "0o52\n",
      "0b101010\n"
     ]
    }
   ],
   "source": [
    "h = hex(42) # 16-ти ричная\n",
    "o = oct(42) # 8-ми ричная\n",
    "b = bin(42) # binary\n",
    "print(h)\n",
    "print(o)\n",
    "print(b)"
   ]
  },
  {
   "cell_type": "code",
   "execution_count": 10,
   "id": "35869859",
   "metadata": {},
   "outputs": [],
   "source": [
    "# all() --> boolian function\n",
    "\n",
    "players = [('Carlsen', 2842), ('Caruana', 2822), ('Mamedyarov', 2801), ('Ding', 2797), ('Giri', 2780)]"
   ]
  },
  {
   "cell_type": "code",
   "execution_count": 11,
   "id": "4bd74e7b",
   "metadata": {},
   "outputs": [
    {
     "data": {
      "text/plain": [
       "True"
      ]
     },
     "execution_count": 11,
     "metadata": {},
     "output_type": "execute_result"
    }
   ],
   "source": [
    "all(rating > 2700 for _, rating in players)"
   ]
  },
  {
   "cell_type": "code",
   "execution_count": 12,
   "id": "12cc609e",
   "metadata": {},
   "outputs": [
    {
     "data": {
      "text/plain": [
       "True"
      ]
     },
     "execution_count": 12,
     "metadata": {},
     "output_type": "execute_result"
    }
   ],
   "source": [
    "any(rating < 2790 for _, rating in players)"
   ]
  },
  {
   "cell_type": "code",
   "execution_count": 14,
   "id": "73cc1343",
   "metadata": {},
   "outputs": [
    {
     "name": "stdout",
     "output_type": "stream",
     "text": [
      "<class 'zip'>\n",
      "<zip object at 0x0000012284B92BC0>\n",
      "[('a', 10), ('b', 20), ('c', 30), ('d', 40)]\n"
     ]
    }
   ],
   "source": [
    "letters = 'abcde'\n",
    "numbers = (10, 20, 30, 40)\n",
    "\n",
    "zipped = zip(letters, numbers)\n",
    "print(type(zipped))\n",
    "print(zipped)\n",
    "\n",
    "zipped_list = list(zipped)\n",
    "print(zipped_list)"
   ]
  },
  {
   "cell_type": "code",
   "execution_count": 15,
   "id": "72833d55",
   "metadata": {},
   "outputs": [
    {
     "name": "stdout",
     "output_type": "stream",
     "text": [
      "{'Carlsen': 2842, 'Caruana': 2822, 'Mamedyarov': 2801, 'Ding': 2797, 'Giri': 2780}\n"
     ]
    }
   ],
   "source": [
    "names = ['Carlsen', 'Caruana', 'Mamedyarov', 'Ding', 'Giri']\n",
    "rating = [2842, 2822, 2801, 2797, 2780]\n",
    "\n",
    "players = dict(zip(names, rating))\n",
    "print(players)"
   ]
  },
  {
   "cell_type": "code",
   "execution_count": 16,
   "id": "bcc04e21",
   "metadata": {},
   "outputs": [
    {
     "data": {
      "text/plain": [
       "97"
      ]
     },
     "execution_count": 16,
     "metadata": {},
     "output_type": "execute_result"
    }
   ],
   "source": [
    "# UNICODE\n",
    "code = ord('a')\n",
    "code"
   ]
  },
  {
   "cell_type": "code",
   "execution_count": 17,
   "id": "85164114",
   "metadata": {},
   "outputs": [
    {
     "data": {
      "text/plain": [
       "'a'"
      ]
     },
     "execution_count": 17,
     "metadata": {},
     "output_type": "execute_result"
    }
   ],
   "source": [
    "c = chr(code)\n",
    "c"
   ]
  },
  {
   "cell_type": "code",
   "execution_count": null,
   "id": "a4ec09e6",
   "metadata": {},
   "outputs": [],
   "source": []
  }
 ],
 "metadata": {
  "kernelspec": {
   "display_name": "Python 3 (ipykernel)",
   "language": "python",
   "name": "python3"
  },
  "language_info": {
   "codemirror_mode": {
    "name": "ipython",
    "version": 3
   },
   "file_extension": ".py",
   "mimetype": "text/x-python",
   "name": "python",
   "nbconvert_exporter": "python",
   "pygments_lexer": "ipython3",
   "version": "3.9.7"
  }
 },
 "nbformat": 4,
 "nbformat_minor": 5
}
