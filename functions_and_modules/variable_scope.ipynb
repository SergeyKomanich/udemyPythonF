{
 "cells": [
  {
   "cell_type": "code",
   "execution_count": 1,
   "id": "65ae1044",
   "metadata": {},
   "outputs": [],
   "source": [
    "greeting = 'Hello from the global scope'\n",
    "\n",
    "def greet():\n",
    "    greeting = 'hello from enclosing scope'\n",
    "    \n",
    "    def nested():\n",
    "        greeting = 'Hello frome local scope'\n",
    "        print(greeting)\n",
    "    nested()"
   ]
  },
  {
   "cell_type": "code",
   "execution_count": 2,
   "id": "bb239257",
   "metadata": {},
   "outputs": [
    {
     "name": "stdout",
     "output_type": "stream",
     "text": [
      "Hello frome local scope\n",
      "Hello frome the global scope\n"
     ]
    }
   ],
   "source": [
    "greet()\n",
    "print(greeting)"
   ]
  },
  {
   "cell_type": "code",
   "execution_count": 5,
   "id": "e2fc44ce",
   "metadata": {},
   "outputs": [],
   "source": [
    "greeting = 'Hello from the global scope'\n",
    "\n",
    "def greet(greeting):\n",
    "    print(f'Greet in func: {greeting}')\n",
    "    \n",
    "    greeting = 'Hello from enclosing scope'\n",
    "    \n",
    "    print(f'Greet in func: {greeting}')\n",
    "    \n",
    "    def nested():\n",
    "        greeting = 'Hello from local scope'\n",
    "        print(greeting)\n",
    "    nested()"
   ]
  },
  {
   "cell_type": "code",
   "execution_count": 6,
   "id": "03f3281c",
   "metadata": {},
   "outputs": [
    {
     "name": "stdout",
     "output_type": "stream",
     "text": [
      "Greet in func: test\n",
      "Greet in func: Hello from enclosing scope\n",
      "Hello from local scope\n",
      "Hello from the global scope\n"
     ]
    }
   ],
   "source": [
    "greet('test')\n",
    "print(greeting)"
   ]
  },
  {
   "cell_type": "code",
   "execution_count": 7,
   "id": "01bd6118",
   "metadata": {},
   "outputs": [],
   "source": [
    "# GLOBAL"
   ]
  },
  {
   "cell_type": "code",
   "execution_count": 8,
   "id": "8cf84039",
   "metadata": {},
   "outputs": [],
   "source": [
    "greeting = 'Hello from the global scope'\n",
    "\n",
    "def greet(greeting):\n",
    "    print(f'Greet in func: {greeting}')\n",
    "    \n",
    "    greeting = 'Hello from enclosing scope'\n",
    "    \n",
    "    print(f'Greet in func: {greeting}')\n",
    "    \n",
    "    def nested():\n",
    "        greeting = 'Hello from local scope'\n",
    "        print(greeting)\n",
    "    nested()\n",
    "    \n",
    "    return 'hello test'"
   ]
  },
  {
   "cell_type": "code",
   "execution_count": 9,
   "id": "caf99594",
   "metadata": {},
   "outputs": [
    {
     "name": "stdout",
     "output_type": "stream",
     "text": [
      "Greet in func: Hello from the global scope\n",
      "Greet in func: Hello from enclosing scope\n",
      "Hello from local scope\n",
      "Hello from enclosing scope\n"
     ]
    }
   ],
   "source": [
    "greet(greeting)\n",
    "print(greeting)"
   ]
  },
  {
   "cell_type": "code",
   "execution_count": null,
   "id": "4ae75ceb",
   "metadata": {},
   "outputs": [],
   "source": []
  }
 ],
 "metadata": {
  "kernelspec": {
   "display_name": "Python 3 (ipykernel)",
   "language": "python",
   "name": "python3"
  },
  "language_info": {
   "codemirror_mode": {
    "name": "ipython",
    "version": 3
   },
   "file_extension": ".py",
   "mimetype": "text/x-python",
   "name": "python",
   "nbconvert_exporter": "python",
   "pygments_lexer": "ipython3",
   "version": "3.9.7"
  }
 },
 "nbformat": 4,
 "nbformat_minor": 5
}
