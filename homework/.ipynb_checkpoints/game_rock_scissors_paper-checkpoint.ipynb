{
 "cells": [
  {
   "cell_type": "code",
   "execution_count": 1,
   "id": "33880f9b",
   "metadata": {},
   "outputs": [],
   "source": [
    "import random"
   ]
  },
  {
   "cell_type": "code",
   "execution_count": 3,
   "id": "429147f9",
   "metadata": {},
   "outputs": [
    {
     "name": "stdout",
     "output_type": "stream",
     "text": [
      "Make your choice: [R/S/P]r\n",
      "Computer choice: p\n",
      "Computer win\n",
      "Would you like to continue? [y/n]y\n",
      "Make your choice: [R/S/P]p\n",
      "Computer choice: p\n",
      "A draw\n",
      "Would you like to continue? [y/n]y\n",
      "Make your choice: [R/S/P]s\n",
      "Computer choice: s\n",
      "A draw\n",
      "Would you like to continue? [y/n]y\n",
      "Make your choice: [R/S/P]p\n",
      "Computer choice: r\n",
      "Computer win\n",
      "Would you like to continue? [y/n]y\n",
      "Make your choice: [R/S/P]r\n",
      "Computer choice: p\n",
      "Computer win\n",
      "Would you like to continue? [y/n]y\n",
      "Make your choice: [R/S/P]s\n",
      "Computer choice: s\n",
      "A draw\n",
      "Would you like to continue? [y/n]n\n"
     ]
    }
   ],
   "source": [
    "should_continue = True\n",
    "\n",
    "while should_continue:\n",
    "    user_choice = input('Make your choice: [R/S/P]').lower()  #R-rock; S-scissors(ножницы); P-paper\n",
    "    \n",
    "    if user_choice not in ['r', 's', 'p']:\n",
    "        print('Incorrect input. Try again')\n",
    "        continue\n",
    "        \n",
    "    value_dict = {1:'r', 2:'s', 3:'p'}\n",
    "    choice_pc = value_dict[random.randint(1, 3)]\n",
    "    \n",
    "    print(f'Computer choice: {choice_pc}')\n",
    "    \n",
    "    winning_combinations = [('p', 'r'), ('r', 's'), ('s', 'p')]\n",
    "    \n",
    "    if user_choice == choice_pc:\n",
    "        print('A draw')\n",
    "    elif (user_choice, choice_pc) in value_dict:\n",
    "        print('You win')\n",
    "    else:\n",
    "        print('Computer win')\n",
    "        \n",
    "    should_continue = input('Would you like to continue? [y/n]').lower() == 'y'"
   ]
  },
  {
   "cell_type": "code",
   "execution_count": null,
   "id": "ede8535d",
   "metadata": {},
   "outputs": [],
   "source": []
  }
 ],
 "metadata": {
  "kernelspec": {
   "display_name": "Python 3 (ipykernel)",
   "language": "python",
   "name": "python3"
  },
  "language_info": {
   "codemirror_mode": {
    "name": "ipython",
    "version": 3
   },
   "file_extension": ".py",
   "mimetype": "text/x-python",
   "name": "python",
   "nbconvert_exporter": "python",
   "pygments_lexer": "ipython3",
   "version": "3.9.7"
  }
 },
 "nbformat": 4,
 "nbformat_minor": 5
}
