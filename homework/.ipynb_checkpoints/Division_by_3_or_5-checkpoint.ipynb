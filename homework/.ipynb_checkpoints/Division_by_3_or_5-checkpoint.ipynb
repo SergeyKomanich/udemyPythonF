{
 "cells": [
  {
   "cell_type": "code",
   "execution_count": 1,
   "id": "898e9759",
   "metadata": {},
   "outputs": [
    {
     "name": "stdout",
     "output_type": "stream",
     "text": [
      "10\n",
      "33\n"
     ]
    }
   ],
   "source": [
    "limit = int(input())\n",
    "num_sum = sum([x for x in range(limit + 1) if x % 3 == 0 or x % 5 == 0])\n",
    "print(num_sum)"
   ]
  },
  {
   "cell_type": "code",
   "execution_count": 2,
   "id": "ab6b18fd",
   "metadata": {},
   "outputs": [
    {
     "name": "stdout",
     "output_type": "stream",
     "text": [
      "10\n",
      "Total sum = 33\n"
     ]
    }
   ],
   "source": [
    "limit = int(input())\n",
    "total_sum = 0\n",
    "for i in range(limit + 1):\n",
    "    if i % 3 == 0 or i % 5 == 0:\n",
    "        total_sum += i\n",
    "    else:\n",
    "        continue\n",
    "\n",
    "print(f'Total sum = {total_sum}')"
   ]
  },
  {
   "cell_type": "code",
   "execution_count": 8,
   "id": "d9aa8080",
   "metadata": {},
   "outputs": [
    {
     "name": "stdout",
     "output_type": "stream",
     "text": [
      "Merged list: [1, 3, 5, 12, 14]\n"
     ]
    }
   ],
   "source": [
    "first_lst = [1, 2, 3, 4, 5, 6]\n",
    "second_lst = [11, 12, 13, 14, 15]\n",
    "\n",
    "joined_list = []\n",
    "for i in first_lst:\n",
    "    if i % 2 != 0:\n",
    "        joined_list.append(i)\n",
    "        \n",
    "for i in second_lst:\n",
    "    if i % 2 == 0:\n",
    "        joined_list.append(i)\n",
    "\n",
    "print(f'Merged list: {joined_list}')"
   ]
  },
  {
   "cell_type": "code",
   "execution_count": 9,
   "id": "1ab06760",
   "metadata": {},
   "outputs": [
    {
     "name": "stdout",
     "output_type": "stream",
     "text": [
      "Joined list: [1, 3, 5, 12, 14]\n"
     ]
    }
   ],
   "source": [
    "# variant_2\n",
    "first_list = [1, 2, 3, 4, 5, 6]\n",
    "second_list = [11, 12, 13, 14, 15]\n",
    "evens = [x for x in second_list if x % 2 == 0]\n",
    "odds = [x for x in first_list if x % 2 != 0]\n",
    "joined_list = odd + even\n",
    "\n",
    "print(f'Joined list: {joined_list}')"
   ]
  },
  {
   "cell_type": "code",
   "execution_count": 10,
   "id": "d43b53b0",
   "metadata": {},
   "outputs": [
    {
     "name": "stdout",
     "output_type": "stream",
     "text": [
      "2\n"
     ]
    }
   ],
   "source": [
    "current_hand = [2, 3, 4, 10, 'Q', 5]\n",
    "\n",
    "cards = {2: 1, 3: 1, 4: 1, 5: 1, 6: 1, 7: 0, 8: 0, 9: 0, 10: -1, \"J\": -1, \"Q\": -1, \"K\": -1, \"A\": -1}\n",
    "\n",
    "cards_sum = sum([cards[x] for x in current_hand])\n",
    "print(cards_sum)"
   ]
  },
  {
   "cell_type": "code",
   "execution_count": 14,
   "id": "5a235e7f",
   "metadata": {},
   "outputs": [
    {
     "name": "stdout",
     "output_type": "stream",
     "text": [
      "Flush!\n"
     ]
    }
   ],
   "source": [
    "# Flush\n",
    "table_cards = ['A_S', 'J_H', '7_D', '8_D', '10_D']\n",
    "hand_cards = ['J_D', '3_D']\n",
    "\n",
    "table_suites = [x[-1] for x in table_cards]\n",
    "hand_suites = [x[-1] for x in hand_cards]\n",
    "\n",
    "suites = table_suites + hand_suites\n",
    "flush = False\n",
    "\n",
    "for s in 'CHSD':\n",
    "    if suites.count(s) >= 5:\n",
    "        flush = True\n",
    "\n",
    "if flush:\n",
    "    print('Flush!')\n",
    "else:\n",
    "    print('No Flush!')"
   ]
  },
  {
   "cell_type": "code",
   "execution_count": 15,
   "id": "2b09ded8",
   "metadata": {},
   "outputs": [
    {
     "name": "stdout",
     "output_type": "stream",
     "text": [
      "Flush!\n"
     ]
    }
   ],
   "source": [
    "table_cards = ['A_S', 'J_H', '7_D', '8_D', '10_D']\n",
    "hand_cards = ['J_D', '3_D']\n",
    "\n",
    "table_suites = [x[-1] for x in table_cards]\n",
    "hand_suites = [x[-1] for x in hand_cards]\n",
    "\n",
    "suites = table_suites + hand_suites\n",
    "flush = any(suites.count(s) >= 5 for s in 'CHSD')\n",
    "\n",
    "if flush:\n",
    "    print('Flush!')\n",
    "else:\n",
    "    print('No Flush!')"
   ]
  },
  {
   "cell_type": "code",
   "execution_count": 24,
   "id": "245b9dfd",
   "metadata": {},
   "outputs": [
    {
     "name": "stdout",
     "output_type": "stream",
     "text": [
      "Enter a number121\n",
      "Pallindrome\n"
     ]
    }
   ],
   "source": [
    "# polindrome\n",
    "number = int(input('Enter a number'))\n",
    "rev_num = 0\n",
    "orig_num = number\n",
    "while orig_num > 0:\n",
    "    rev_num = rev_num * 10 + orig_num % 10\n",
    "    orig_num = orig_num // 10\n",
    "if number == rev_num:\n",
    "    print('Palindrome')\n",
    "else:\n",
    "    print('No Palindrome')"
   ]
  },
  {
   "cell_type": "code",
   "execution_count": 25,
   "id": "51c53b39",
   "metadata": {},
   "outputs": [],
   "source": [
    "# Guess the number"
   ]
  },
  {
   "cell_type": "code",
   "execution_count": 29,
   "id": "49321185",
   "metadata": {},
   "outputs": [
    {
     "name": "stdout",
     "output_type": "stream",
     "text": [
      "Guess the number from 1 to 50 in five tries!))\n",
      "Enter the number: 30\n",
      "Yuor number is lower\n",
      "Enter the number: 40\n",
      "Yuor number is lower\n",
      "Enter the number: 45\n",
      "Your number is higher\n",
      "Enter the number: 43\n",
      "Your number is higher\n",
      "Enter the number: 42\n",
      "Your number is higher\n",
      "Enter the number: 41\n",
      "Congratulations! You guessed it! My number was: 41\n"
     ]
    }
   ],
   "source": [
    "import random\n",
    "\n",
    "user_tries = 0\n",
    "number = random.randint(1, 50)\n",
    "print('Guess the number from 1 to 50 in five tries!))')\n",
    "\n",
    "while user_tries < 6:\n",
    "    guess_num = int(input('Enter the number: '))\n",
    "    user_tries += 1\n",
    "    \n",
    "    if guess_num < number:\n",
    "        print('Yuor number is lower')\n",
    "    if guess_num > number:\n",
    "        print('Your number is higher')\n",
    "    if guess_num == number:\n",
    "        print(f'Congratulations! You guessed it! My number was: {number}')\n",
    "    if guess_num != number and user_tries == 6:\n",
    "        print(f\"I'm sorry, but you didn't get it right. My number was: {number}\")"
   ]
  },
  {
   "cell_type": "code",
   "execution_count": null,
   "id": "ed8c249f",
   "metadata": {},
   "outputs": [],
   "source": []
  }
 ],
 "metadata": {
  "kernelspec": {
   "display_name": "Python 3 (ipykernel)",
   "language": "python",
   "name": "python3"
  },
  "language_info": {
   "codemirror_mode": {
    "name": "ipython",
    "version": 3
   },
   "file_extension": ".py",
   "mimetype": "text/x-python",
   "name": "python",
   "nbconvert_exporter": "python",
   "pygments_lexer": "ipython3",
   "version": "3.9.7"
  }
 },
 "nbformat": 4,
 "nbformat_minor": 5
}
